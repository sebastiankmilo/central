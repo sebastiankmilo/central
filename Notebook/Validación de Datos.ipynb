{
 "cells": [
  {
   "cell_type": "markdown",
   "metadata": {},
   "source": [
    "\n",
    "# <p style=\"text-align: center;\">VALIDACIÓN DE DATOS EN UNA CLASE</p>"
   ]
  },
  {
   "cell_type": "code",
   "execution_count": 1,
   "metadata": {},
   "outputs": [],
   "source": [
    "%config IPCompleter.greedy=True"
   ]
  },
  {
   "cell_type": "code",
   "execution_count": 4,
   "metadata": {},
   "outputs": [
    {
     "ename": "SyntaxError",
     "evalue": "invalid syntax (<ipython-input-4-69233181a849>, line 2)",
     "traceback": [
      "\u001b[1;36m  File \u001b[1;32m\"<ipython-input-4-69233181a849>\"\u001b[1;36m, line \u001b[1;32m2\u001b[0m\n\u001b[1;33m    def _init_(self,nombre , cedula, Telefono, rh, Estado civil):\u001b[0m\n\u001b[1;37m                                                              ^\u001b[0m\n\u001b[1;31mSyntaxError\u001b[0m\u001b[1;31m:\u001b[0m invalid syntax\n"
     ],
     "output_type": "error"
    }
   ],
   "source": [
    "class persona(object):\n",
    "    def _init_(self,nombre , cedula, Telefono, rh, Estado civil):\n",
    "        \n",
    "        pass\n",
    "    def _str_(self):\n",
    "        \n",
    "        return ''\n",
    "    def _validarnombre_(self,nombre):\n",
    "        \n",
    "        return ''\n",
    "    def _validarcedula_(self,nombre):\n",
    "        \n",
    "        return ''\n",
    "    def _validarTelefono_(self,nombre):\n",
    "        \n",
    "        return ''\n",
    "    \n",
    "    def _validarrh_(self,nombre):\n",
    "        while true:\n",
    "            nombre=raw_input(\"ingrese su rh\").\n",
    "            return ''     \n",
    "        \n",
    "    def _EstadoCivil_(self,nombre):\n",
    "        \n",
    "        return ''\n",
    "pass\n",
    "        "
   ]
  },
  {
   "cell_type": "markdown",
   "metadata": {},
   "source": [
    "$ y=2*x $ funcion sin deplazamiento"
   ]
  },
  {
   "cell_type": "markdown",
   "metadata": {},
   "source": [
    "si yo tengo que $x$ ahora es igual a $x-1$, tiene un adelanto de 1 "
   ]
  },
  {
   "cell_type": "markdown",
   "metadata": {},
   "source": [
    "exacto"
   ]
  },
  {
   "cell_type": "markdown",
   "metadata": {},
   "source": [
    "la funcion ahora queda <br>\n",
    "$y=2*(x-1)$ <br>"
   ]
  },
  {
   "cell_type": "markdown",
   "metadata": {},
   "source": [
    "si vez que hice un cambio de variable??\n",
    "la formula general queda: si\n",
    "$y=pendiente*(x-offset)$"
   ]
  },
  {
   "cell_type": "markdown",
   "metadata": {},
   "source": [
    "en el codigo $x=n(pos0+m-1)$"
   ]
  },
  {
   "cell_type": "markdown",
   "metadata": {},
   "source": [
    "nooo <br>\n",
    "yo dije x no y <br>\n",
    "$n(pos0+m-1)$ `=`el valor que voy a tomar y $pos0+m-1$ va a ser la posción el vector n \n"
   ]
  },
  {
   "cell_type": "markdown",
   "metadata": {},
   "source": [
    "$x=n(pos0+m-1)$"
   ]
  },
  {
   "cell_type": "markdown",
   "metadata": {},
   "source": [
    "acuerdate que nuestro x tiene offset(desplazamiento)\n",
    "$y=pendiente*(x-offset)$"
   ]
  },
  {
   "cell_type": "markdown",
   "metadata": {},
   "source": [
    "remplazamo el valor de x en la ecuación de arriba para que quede en termino de n, me entiendes??"
   ]
  },
  {
   "cell_type": "markdown",
   "metadata": {},
   "source": [
    "$y=pendiente*(n(pos0+1-1)-offset)$"
   ]
  },
  {
   "cell_type": "markdown",
   "metadata": {},
   "source": [
    "en el codigo tengo es:<br>\n",
    "$x2(m)=a.*(n(Pos0+m-1)+d)$"
   ]
  },
  {
   "cell_type": "markdown",
   "metadata": {},
   "source": [
    "$pendiente=a$<br>\n",
    "$x=n(pos0+m-1)$<br>\n",
    "$d=desplazamiento$<br>"
   ]
  },
  {
   "cell_type": "markdown",
   "metadata": {},
   "source": [
    "la ecuación me queda con desplazamiento. <br>\n",
    "ya entendiste la de rampa????oleeee?"
   ]
  },
  {
   "cell_type": "code",
   "execution_count": null,
   "metadata": {},
   "outputs": [],
   "source": []
  }
 ],
 "metadata": {
  "kernelspec": {
   "display_name": "Python [default]",
   "language": "python",
   "name": "python2"
  },
  "language_info": {
   "codemirror_mode": {
    "name": "ipython",
    "version": 2
   },
   "file_extension": ".py",
   "mimetype": "text/x-python",
   "name": "python",
   "nbconvert_exporter": "python",
   "pygments_lexer": "ipython2",
   "version": "2.7.14"
  },
  "toc": {
   "nav_menu": {},
   "number_sections": true,
   "sideBar": true,
   "skip_h1_title": false,
   "title_cell": "Table of Contents",
   "title_sidebar": "Contents",
   "toc_cell": false,
   "toc_position": {},
   "toc_section_display": true,
   "toc_window_display": false
  },
  "varInspector": {
   "cols": {
    "lenName": 16.0,
    "lenType": 16.0,
    "lenVar": 40.0
   },
   "kernels_config": {
    "python": {
     "delete_cmd_postfix": "",
     "delete_cmd_prefix": "del ",
     "library": "var_list.py",
     "varRefreshCmd": "print(var_dic_list())"
    },
    "r": {
     "delete_cmd_postfix": ") ",
     "delete_cmd_prefix": "rm(",
     "library": "var_list.r",
     "varRefreshCmd": "cat(var_dic_list()) "
    }
   },
   "types_to_exclude": [
    "module",
    "function",
    "builtin_function_or_method",
    "instance",
    "_Feature"
   ],
   "window_display": false
  }
 },
 "nbformat": 4,
 "nbformat_minor": 2
}
